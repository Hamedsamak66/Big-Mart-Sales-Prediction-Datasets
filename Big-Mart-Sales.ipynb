{
  "cells": [
    {
      "cell_type": "markdown",
      "metadata": {
        "id": "view-in-github",
        "colab_type": "text"
      },
      "source": [
        "<a href=\"https://colab.research.google.com/github/Hamedsamak66/Big-Mart-Sales-Prediction-Datasets/blob/main/Big-Mart-Sales.ipynb\" target=\"_parent\"><img src=\"https://colab.research.google.com/assets/colab-badge.svg\" alt=\"Open In Colab\"/></a>"
      ]
    },
    {
      "cell_type": "code",
      "execution_count": null,
      "metadata": {
        "colab": {
          "base_uri": "https://localhost:8080/"
        },
        "id": "w-H1LeB3dB4V",
        "outputId": "269531e9-cd3f-4649-a160-9c95021fbe7f"
      },
      "outputs": [
        {
          "output_type": "stream",
          "name": "stdout",
          "text": [
            "Requirement already satisfied: pandas in /usr/local/lib/python3.10/dist-packages (2.0.3)\n",
            "Requirement already satisfied: numpy in /usr/local/lib/python3.10/dist-packages (1.25.2)\n",
            "Requirement already satisfied: scikit-learn in /usr/local/lib/python3.10/dist-packages (1.2.2)\n",
            "Requirement already satisfied: matplotlib in /usr/local/lib/python3.10/dist-packages (3.7.1)\n",
            "Requirement already satisfied: xgboost in /usr/local/lib/python3.10/dist-packages (2.0.3)\n",
            "Requirement already satisfied: lightgbm in /usr/local/lib/python3.10/dist-packages (4.1.0)\n",
            "Requirement already satisfied: python-dateutil>=2.8.2 in /usr/local/lib/python3.10/dist-packages (from pandas) (2.8.2)\n",
            "Requirement already satisfied: pytz>=2020.1 in /usr/local/lib/python3.10/dist-packages (from pandas) (2023.4)\n",
            "Requirement already satisfied: tzdata>=2022.1 in /usr/local/lib/python3.10/dist-packages (from pandas) (2024.1)\n",
            "Requirement already satisfied: scipy>=1.3.2 in /usr/local/lib/python3.10/dist-packages (from scikit-learn) (1.11.4)\n",
            "Requirement already satisfied: joblib>=1.1.1 in /usr/local/lib/python3.10/dist-packages (from scikit-learn) (1.4.2)\n",
            "Requirement already satisfied: threadpoolctl>=2.0.0 in /usr/local/lib/python3.10/dist-packages (from scikit-learn) (3.5.0)\n",
            "Requirement already satisfied: contourpy>=1.0.1 in /usr/local/lib/python3.10/dist-packages (from matplotlib) (1.2.1)\n",
            "Requirement already satisfied: cycler>=0.10 in /usr/local/lib/python3.10/dist-packages (from matplotlib) (0.12.1)\n",
            "Requirement already satisfied: fonttools>=4.22.0 in /usr/local/lib/python3.10/dist-packages (from matplotlib) (4.53.0)\n",
            "Requirement already satisfied: kiwisolver>=1.0.1 in /usr/local/lib/python3.10/dist-packages (from matplotlib) (1.4.5)\n",
            "Requirement already satisfied: packaging>=20.0 in /usr/local/lib/python3.10/dist-packages (from matplotlib) (24.1)\n",
            "Requirement already satisfied: pillow>=6.2.0 in /usr/local/lib/python3.10/dist-packages (from matplotlib) (9.4.0)\n",
            "Requirement already satisfied: pyparsing>=2.3.1 in /usr/local/lib/python3.10/dist-packages (from matplotlib) (3.1.2)\n",
            "Requirement already satisfied: six>=1.5 in /usr/local/lib/python3.10/dist-packages (from python-dateutil>=2.8.2->pandas) (1.16.0)\n"
          ]
        }
      ],
      "source": [
        "!pip install pandas numpy scikit-learn matplotlib xgboost lightgbm\n",
        "import pandas as pd\n",
        "import numpy as np\n",
        "import matplotlib.pyplot as plt\n",
        "from sklearn.model_selection import train_test_split, GridSearchCV\n",
        "from sklearn.preprocessing import LabelEncoder, MinMaxScaler, PolynomialFeatures\n",
        "from sklearn.impute import SimpleImputer\n",
        "from sklearn.linear_model import LinearRegression\n",
        "from sklearn.ensemble import RandomForestRegressor\n",
        "from sklearn.tree import DecisionTreeRegressor\n",
        "import xgboost as xgb\n",
        "import lightgbm as lgb\n",
        "from sklearn.metrics import mean_squared_error, r2_score\n",
        "import tensorflow as tf\n",
        "from tensorflow.keras.models import Sequential\n",
        "from tensorflow.keras.layers import Dense"
      ]
    },
    {
      "cell_type": "code",
      "execution_count": 134,
      "metadata": {
        "id": "8KGX7RbwegzW"
      },
      "outputs": [],
      "source": [
        "train_data = pd.read_csv('/content/sample_data/train.csv')\n",
        "test_data = pd.read_csv('/content/sample_data/test.csv')"
      ]
    },
    {
      "cell_type": "code",
      "execution_count": null,
      "metadata": {
        "colab": {
          "base_uri": "https://localhost:8080/"
        },
        "id": "koDEE2o-QaZu",
        "outputId": "7c53a27c-f903-4135-a5f3-6480c709afb6"
      },
      "outputs": [
        {
          "output_type": "stream",
          "name": "stdout",
          "text": [
            "<class 'pandas.core.frame.DataFrame'>\n",
            "Index: 14204 entries, 0 to 5680\n",
            "Data columns (total 12 columns):\n",
            " #   Column                     Non-Null Count  Dtype  \n",
            "---  ------                     --------------  -----  \n",
            " 0   Item_Identifier            14204 non-null  object \n",
            " 1   Item_Weight                11765 non-null  float64\n",
            " 2   Item_Fat_Content           14204 non-null  object \n",
            " 3   Item_Visibility            14204 non-null  float64\n",
            " 4   Item_Type                  14204 non-null  object \n",
            " 5   Item_MRP                   14204 non-null  float64\n",
            " 6   Outlet_Identifier          14204 non-null  object \n",
            " 7   Outlet_Establishment_Year  14204 non-null  int64  \n",
            " 8   Outlet_Size                10188 non-null  object \n",
            " 9   Outlet_Location_Type       14204 non-null  object \n",
            " 10  Outlet_Type                14204 non-null  object \n",
            " 11  Item_Outlet_Sales          8523 non-null   float64\n",
            "dtypes: float64(4), int64(1), object(7)\n",
            "memory usage: 1.4+ MB\n",
            "None\n",
            "        Item_Weight  Item_Visibility      Item_MRP  Outlet_Establishment_Year  \\\n",
            "count  11765.000000     14204.000000  14204.000000               14204.000000   \n",
            "mean      12.792854         0.065953    141.004977                1997.830681   \n",
            "std        4.652502         0.051459     62.086938                   8.371664   \n",
            "min        4.555000         0.000000     31.290000                1985.000000   \n",
            "25%        8.710000         0.027036     94.012000                1987.000000   \n",
            "50%       12.600000         0.054021    142.247000                1999.000000   \n",
            "75%       16.750000         0.094037    185.855600                2004.000000   \n",
            "max       21.350000         0.328391    266.888400                2009.000000   \n",
            "\n",
            "       Item_Outlet_Sales  \n",
            "count        8523.000000  \n",
            "mean         2181.288914  \n",
            "std          1706.499616  \n",
            "min            33.290000  \n",
            "25%           834.247400  \n",
            "50%          1794.331000  \n",
            "75%          3101.296400  \n",
            "max         13086.964800  \n"
          ]
        }
      ],
      "source": [
        "data = pd.concat([train_data, test_data], sort=False)\n",
        "print(data.info())\n",
        "print(data.describe())"
      ]
    },
    {
      "cell_type": "code",
      "execution_count": null,
      "metadata": {
        "id": "hYec-5huSgPM"
      },
      "outputs": [],
      "source": [
        "imputer = SimpleImputer(strategy='mean')\n",
        "data['Item_Weight'] = imputer.fit_transform(data[['Item_Weight']])\n",
        "data['Outlet_Size'].fillna(data['Outlet_Size'].mode()[0], inplace=True)"
      ]
    },
    {
      "cell_type": "code",
      "execution_count": null,
      "metadata": {
        "id": "a1QocHvUUU1G"
      },
      "outputs": [],
      "source": [
        "le = LabelEncoder()\n",
        "data['Item_Fat_Content'] = le.fit_transform(data['Item_Fat_Content'])\n",
        "data['Outlet_Location_Type'] = le.fit_transform(data['Outlet_Location_Type'])\n",
        "data['Outlet_Size'] = le.fit_transform(data['Outlet_Size'])\n",
        "data['Outlet_Type'] = le.fit_transform(data['Outlet_Type'])\n",
        "\n",
        "data = pd.get_dummies(data, columns=['Item_Type'])"
      ]
    },
    {
      "cell_type": "code",
      "execution_count": null,
      "metadata": {
        "id": "WdYSKy3KUcF9"
      },
      "outputs": [],
      "source": [
        "data = data.drop(['Item_Identifier', 'Outlet_Identifier'], axis=1)"
      ]
    },
    {
      "cell_type": "code",
      "execution_count": null,
      "metadata": {
        "id": "kNYSq7r3UoaT"
      },
      "outputs": [],
      "source": [
        "# Feature Engineering: Polynomial Features\n",
        "poly = PolynomialFeatures(degree=2, interaction_only=True, include_bias=False)\n",
        "data_poly = poly.fit_transform(data.drop(['Item_Outlet_Sales'], axis=1))\n",
        "\n",
        "# Split the data back into train and test sets\n",
        "train = data_poly[:len(train_data)]\n",
        "test = data_poly[len(train_data):]"
      ]
    },
    {
      "cell_type": "code",
      "execution_count": null,
      "metadata": {
        "id": "BoICIRyiUrtX"
      },
      "outputs": [],
      "source": [
        "# Scale the features using MinMaxScaler\n",
        "scaler = MinMaxScaler()\n",
        "X_train_scaled = scaler.fit_transform(train)\n",
        "X_test_scaled = scaler.transform(test)"
      ]
    },
    {
      "cell_type": "code",
      "execution_count": null,
      "metadata": {
        "id": "JZ8juyFMUzLj"
      },
      "outputs": [],
      "source": [
        "y = train_data['Item_Outlet_Sales']"
      ]
    },
    {
      "cell_type": "code",
      "execution_count": null,
      "metadata": {
        "id": "N-0wfFZZU2Ur"
      },
      "outputs": [],
      "source": [
        "X_train, X_val, y_train, y_val = train_test_split(X_train_scaled, y, test_size=0.2, random_state=42)\n"
      ]
    },
    {
      "cell_type": "code",
      "execution_count": null,
      "metadata": {
        "id": "T3NwbPuFU5rG"
      },
      "outputs": [],
      "source": [
        "models = {\n",
        "    \"Linear Regression\": LinearRegression(),\n",
        "    \"Random Forest\": RandomForestRegressor(random_state=42),\n",
        "    \"Decision Tree\": DecisionTreeRegressor(random_state=42),\n",
        "    \"XGBoost\": xgb.XGBRegressor(random_state=42),\n",
        "    \"LightGBM\": lgb.LGBMRegressor(random_state=42)\n",
        "}"
      ]
    },
    {
      "cell_type": "code",
      "execution_count": null,
      "metadata": {
        "id": "n6CWiD7tccHs"
      },
      "outputs": [],
      "source": [
        "param_grid_rf = {\n",
        "    'n_estimators': [100, 200],\n",
        "    'max_depth': [10, 20],\n",
        "    'min_samples_split': [2, 5]\n",
        "}\n",
        "\n",
        "param_grid_xgb = {\n",
        "    'n_estimators': [100, 200],\n",
        "    'learning_rate': [0.05, 0.1],\n",
        "    'max_depth': [3, 5]\n",
        "}\n",
        "\n",
        "param_grid_lgb = {\n",
        "    'n_estimators': [100, 200],\n",
        "    'learning_rate': [0.05, 0.1],\n",
        "    'num_leaves': [31, 61]\n",
        "}\n",
        "def perform_grid_search(model, param_grid, X_train, y_train):\n",
        "    grid_search = GridSearchCV(estimator=model, param_grid=param_grid, scoring='neg_mean_squared_error', cv=3, n_jobs=-1)\n",
        "    grid_search.fit(X_train, y_train)\n",
        "    return grid_search.best_estimator_"
      ]
    },
    {
      "cell_type": "code",
      "execution_count": null,
      "metadata": {
        "colab": {
          "base_uri": "https://localhost:8080/"
        },
        "id": "6IoUrs39ciTA",
        "outputId": "fafe0394-c82b-45e9-d62e-47a6d911607d"
      },
      "outputs": [
        {
          "output_type": "stream",
          "name": "stderr",
          "text": [
            "/usr/local/lib/python3.10/dist-packages/joblib/externals/loky/backend/fork_exec.py:38: RuntimeWarning: os.fork() was called. os.fork() is incompatible with multithreaded code, and JAX is multithreaded, so this will likely lead to a deadlock.\n",
            "  pid = os.fork()\n"
          ]
        },
        {
          "output_type": "stream",
          "name": "stdout",
          "text": [
            "[LightGBM] [Info] Auto-choosing col-wise multi-threading, the overhead of testing was 0.003498 seconds.\n",
            "You can set `force_col_wise=true` to remove the overhead.\n",
            "[LightGBM] [Info] Total Bins 11058\n",
            "[LightGBM] [Info] Number of data points in the train set: 6818, number of used features: 180\n",
            "[LightGBM] [Info] Start training from score 2202.365232\n"
          ]
        }
      ],
      "source": [
        "# Perform GridSearchCV and update models with best estimators\n",
        "models[\"Random Forest\"] = perform_grid_search(models[\"Random Forest\"], param_grid_rf, X_train, y_train)\n",
        "models[\"XGBoost\"] = perform_grid_search(models[\"XGBoost\"], param_grid_xgb, X_train, y_train)\n",
        "models[\"LightGBM\"] = perform_grid_search(models[\"LightGBM\"], param_grid_lgb, X_train, y_train)\n"
      ]
    },
    {
      "cell_type": "code",
      "execution_count": null,
      "metadata": {
        "id": "uvDl1oM8VCT2"
      },
      "outputs": [],
      "source": [
        "def evaluate_model(model, X_train, X_test, y_train, y_test):\n",
        "    model.fit(X_train, y_train)\n",
        "    y_pred = model.predict(X_test)\n",
        "    rmse = np.sqrt(mean_squared_error(y_test, y_pred))\n",
        "    r2 = r2_score(y_test, y_pred)\n",
        "    return rmse, r2"
      ]
    },
    {
      "cell_type": "code",
      "execution_count": null,
      "metadata": {
        "colab": {
          "base_uri": "https://localhost:8080/"
        },
        "id": "5kIWTLB2XkJ1",
        "outputId": "651fef00-4e22-4d6c-e527-db6062c78adc"
      },
      "outputs": [
        {
          "output_type": "stream",
          "name": "stdout",
          "text": [
            "[LightGBM] [Info] Auto-choosing col-wise multi-threading, the overhead of testing was 0.003311 seconds.\n",
            "You can set `force_col_wise=true` to remove the overhead.\n",
            "[LightGBM] [Info] Total Bins 11058\n",
            "[LightGBM] [Info] Number of data points in the train set: 6818, number of used features: 180\n",
            "[LightGBM] [Info] Start training from score 2202.365232\n"
          ]
        }
      ],
      "source": [
        "# Evaluate all models\n",
        "results = {}\n",
        "for model_name, model in models.items():\n",
        "    rmse, r2 = evaluate_model(model, X_train, X_val, y_train, y_val)\n",
        "    results[model_name] = {\"RMSE\": rmse, \"R2\": r2}"
      ]
    },
    {
      "cell_type": "code",
      "execution_count": null,
      "metadata": {
        "id": "Pe7XBh6tXvme"
      },
      "outputs": [],
      "source": [
        "# Add Deep Learning model\n",
        "def build_and_evaluate_nn(X_train, X_test, y_train, y_test):\n",
        "    model = Sequential()\n",
        "    model.add(Dense(128, input_dim=X_train.shape[1], activation='relu'))\n",
        "    model.add(Dense(64, activation='relu'))\n",
        "    model.add(Dense(1))\n",
        "\n",
        "    model.compile(optimizer='adam', loss='mean_squared_error')\n",
        "\n",
        "    model.fit(X_train, y_train, epochs=100, batch_size=32, verbose=0)\n",
        "\n",
        "    y_pred = model.predict(X_test)\n",
        "    rmse = np.sqrt(mean_squared_error(y_test, y_pred))\n",
        "    r2 = r2_score(y_test, y_pred)\n",
        "    return rmse, r2"
      ]
    },
    {
      "cell_type": "code",
      "execution_count": null,
      "metadata": {
        "colab": {
          "base_uri": "https://localhost:8080/"
        },
        "id": "Ty_9Vd2sXzKc",
        "outputId": "21407b62-2d11-4d42-9f0e-171eeaa3c4b3"
      },
      "outputs": [
        {
          "output_type": "stream",
          "name": "stdout",
          "text": [
            "54/54 [==============================] - 0s 1ms/step\n"
          ]
        }
      ],
      "source": [
        "rmse, r2 = build_and_evaluate_nn(X_train, X_val, y_train, y_val)\n",
        "results[\"Deep Learning\"] = {\"RMSE\": rmse, \"R2\": r2}\n"
      ]
    },
    {
      "cell_type": "code",
      "execution_count": null,
      "metadata": {
        "colab": {
          "base_uri": "https://localhost:8080/"
        },
        "id": "sruWilT1X-dC",
        "outputId": "b3640075-d56b-4d83-8876-a5f9feae184c"
      },
      "outputs": [
        {
          "output_type": "stream",
          "name": "stdout",
          "text": [
            "Linear Regression - RMSE: 1038.7182, R2: 0.6030\n",
            "Random Forest - RMSE: 1046.1825, R2: 0.5973\n",
            "Decision Tree - RMSE: 1470.1621, R2: 0.2048\n",
            "XGBoost - RMSE: 1027.2158, R2: 0.6118\n",
            "LightGBM - RMSE: 1047.5815, R2: 0.5962\n",
            "Deep Learning - RMSE: 1045.4569, R2: 0.5979\n"
          ]
        }
      ],
      "source": [
        "for model_name, metrics in results.items():\n",
        "    print(f\"{model_name} - RMSE: {metrics['RMSE']:.4f}, R2: {metrics['R2']:.4f}\")"
      ]
    },
    {
      "cell_type": "code",
      "execution_count": null,
      "metadata": {
        "colab": {
          "base_uri": "https://localhost:8080/",
          "height": 580
        },
        "id": "RoFmWsFAZOxU",
        "outputId": "2e25d100-49bf-447d-94b0-718c796892f6"
      },
      "outputs": [
        {
          "output_type": "stream",
          "name": "stderr",
          "text": [
            "<ipython-input-132-490f9d30532e>:13: UserWarning: FixedFormatter should only be used together with FixedLocator\n",
            "  axes[0].set_xticklabels(model_names, rotation=45, ha='right')\n",
            "<ipython-input-132-490f9d30532e>:20: UserWarning: FixedFormatter should only be used together with FixedLocator\n",
            "  axes[1].set_xticklabels(model_names, rotation=45, ha='right')\n"
          ]
        },
        {
          "output_type": "display_data",
          "data": {
            "text/plain": [
              "<Figure size 1400x500 with 2 Axes>"
            ],
            "image/png": "[encoded data removed]"
          },
          "metadata": {}
        }
      ],
      "source": [
        "# Plotting comparison charts for RMSE and R2\n",
        "model_names = list(results.keys())\n",
        "rmse_values = [results[model][\"RMSE\"] for model in model_names]\n",
        "r2_values = [results[model][\"R2\"] for model in model_names]\n",
        "\n",
        "fig, axes = plt.subplots(1, 2, figsize=(14, 5))\n",
        "\n",
        "# RMSE Bar Chart\n",
        "axes[0].bar(model_names, rmse_values, color='skyblue')\n",
        "axes[0].set_title('Comparison of RMSE')\n",
        "axes[0].set_xlabel('Model')\n",
        "axes[0].set_ylabel('RMSE')\n",
        "axes[0].set_xticklabels(model_names, rotation=45, ha='right')\n",
        "\n",
        "# R2 Bar Chart\n",
        "axes[1].bar(model_names, r2_values, color='lightgreen')\n",
        "axes[1].set_title('Comparison of R2')\n",
        "axes[1].set_xlabel('Model')\n",
        "axes[1].set_ylabel('R2 Score')\n",
        "axes[1].set_xticklabels(model_names, rotation=45, ha='right')\n",
        "\n",
        "plt.tight_layout()\n",
        "plt.show()"
      ]
    }
  ],
  "metadata": {
    "colab": {
      "provenance": [],
      "authorship_tag": "ABX9TyOiRXcxDjXvqua/wfizRMzg",
      "include_colab_link": true
    },
    "kernelspec": {
      "display_name": "Python 3",
      "name": "python3"
    },
    "language_info": {
      "name": "python"
    }
  },
  "nbformat": 4,
  "nbformat_minor": 0
}